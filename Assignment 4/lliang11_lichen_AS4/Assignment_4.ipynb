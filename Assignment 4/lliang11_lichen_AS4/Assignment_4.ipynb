{
 "cells": [
  {
   "cell_type": "markdown",
   "id": "convenient-formation",
   "metadata": {},
   "source": [
    "# Assignment 4: Word Embedding Network\n",
    "In this assignment you will practice how to create a Word Embedding Network in PyTorch. First, you will finish some functions to parse the data, build the corpus and construct the skip pair. Then, you will construct a word embedding network by follow the specific requirements and architectures. Finally, you will train the network and visualize the result.\n",
    "\n",
    "You will need to add or change code in any code block marked 'TODO'. Do not change code in the other sections as it may break the notebook."
   ]
  },
  {
   "cell_type": "code",
   "execution_count": 142,
   "id": "final-confidence",
   "metadata": {},
   "outputs": [],
   "source": [
    "# Imports for PyTorch\n",
    "import torch\n",
    "import torch.nn as nn\n",
    "import torch.nn.functional as F\n",
    "import torch.optim as optim\n",
    "\n",
    "# Imports for Plotting and Analysis\n",
    "from collections import Counter\n",
    "import math\n",
    "import numpy as np\n",
    "from sklearn import decomposition\n",
    "import seaborn as sns\n",
    "from matplotlib import pyplot as plt\n",
    "plt.rcParams['figure.figsize'] = (10,10)"
   ]
  },
  {
   "cell_type": "markdown",
   "id": "blank-investor",
   "metadata": {},
   "source": [
    "# Preprocessing"
   ]
  },
  {
   "cell_type": "markdown",
   "id": "declared-queens",
   "metadata": {},
   "source": [
    "## TODO: Data selection and Variables (10)\n",
    "There are two tasks in this section\n",
    "1. Please input your SUID number in the variable 'SUID'. This will be used as a unique random variable seed for your assignment.\n",
    "2. Select the text you will be using for training your model. You can select between either a short text or a longer text by setting the variable to True and the others to False. It is recommended that you do all of your testing with the short text.\n",
    "    - test_doc_short: Small dataset. You can use it to debug your code.\n",
    "    - test_doc_long: Large dataet. You should use it to get the final result. Make sure to reduce the number of epochs your run when using this text!"
   ]
  },
  {
   "cell_type": "code",
   "execution_count": 143,
   "id": "scheduled-question",
   "metadata": {},
   "outputs": [],
   "source": [
    "# Start TODO\n",
    "SUID = 231022915\n",
    "input_text_short = False\n",
    "input_text_long = True\n",
    "\n",
    "embedding_size = 10\n",
    "epochs = 250\n",
    "batch_size = 128\n",
    "# End TODO"
   ]
  },
  {
   "cell_type": "code",
   "execution_count": 144,
   "id": "working-lewis",
   "metadata": {},
   "outputs": [],
   "source": [
    "# Do NOT edit this block!\n",
    "torch.manual_seed(SUID)\n",
    "\n",
    "if (input_text_short and input_text_long) or (not input_text_short and not input_text_long):\n",
    "    raise ValueError('Only one text should be set to True.')"
   ]
  },
  {
   "cell_type": "markdown",
   "id": "complimentary-selection",
   "metadata": {},
   "source": [
    "## split_sentence\n",
    "1. Remove the special characters from the sentence\n",
    "2. Filter the short sentence\n",
    "\n",
    "You can rewrite this function or add more filter conditions, but you will not be graded on this section."
   ]
  },
  {
   "cell_type": "code",
   "execution_count": 145,
   "id": "comprehensive-addiction",
   "metadata": {},
   "outputs": [],
   "source": [
    "def split_sentence(sentences, ignore_short=True):\n",
    "    new_sentence = list()\n",
    "    for sentence in sentences:\n",
    "        sentence = sentence.replace(\"\\n\", \" \")\n",
    "        sentence = sentence.replace(\",\", \"\")\n",
    "        sentence = sentence.replace(\"\\'\", \" \")\n",
    "        sentence = sentence.replace(\"\\\"\", \" \")\n",
    "        sentence = sentence.replace(\"?\", \"\")\n",
    "        sentence = sentence.replace(\"!\", \"\")\n",
    "        sentence = sentence.replace(\";\", \"\")\n",
    "        sentence = sentence.lower()\n",
    "        if (sentence.count(\" \") <= 3) and ignore_short:\n",
    "            continue\n",
    "        new_sentence.append(sentence)\n",
    "    return new_sentence"
   ]
  },
  {
   "cell_type": "code",
   "execution_count": 146,
   "id": "mysterious-rebound",
   "metadata": {},
   "outputs": [
    {
     "name": "stdout",
     "output_type": "stream",
     "text": [
      "[('is', 6), ('the', 6), ('royal', 4), ('king', 3), ('queen', 3), ('he', 2), ('she', 2)]\n"
     ]
    }
   ],
   "source": [
    "# This block loads the source text for your model.\n",
    "file = None\n",
    "if input_text_short:\n",
    "    file = open(\"test_doc_short.txt\",'r')\n",
    "if input_text_long:\n",
    "    file = open(\"txt_alice.txt\",'r')\n",
    "raw_data_1 = file.read()\n",
    "file.close()\n",
    "sentences = raw_data_1.split(\".\")\n",
    "\n",
    "corpus_raw = split_sentence(sentences, ignore_short=False)\n",
    "counter = Counter(\" \".join(corpus_raw).split())\n",
    "print(counter.most_common(50))"
   ]
  },
  {
   "cell_type": "markdown",
   "id": "widespread-specification",
   "metadata": {},
   "source": [
    "# TODO: build_dictionary (10 points)\n",
    "There are two steps here:\n",
    "1. Extract the words from the input sentence(s). \n",
    "2. Build a non-duplicate word dictionary. For this step we can take advantage of Python's 'set' class. It is already included on the return statement.\n",
    "\n",
    "Expected Outputs:\n",
    "- The number of words in \"test_doc_short\" dataset is 7.\n",
    "- The number of words in \"test_doc_long\" dataset is ~1616.\n",
    "\n",
    "If your number of words is one larger than expected (e.g. 8 for 'test_doc_short'), check to see if you're including ''. If so, you'll want to remove it."
   ]
  },
  {
   "cell_type": "code",
   "execution_count": 147,
   "id": "intense-ordinary",
   "metadata": {},
   "outputs": [
    {
     "name": "stdout",
     "output_type": "stream",
     "text": [
      "7\n"
     ]
    }
   ],
   "source": [
    "def build_dictionary(corpus_raw):\n",
    "    words = []\n",
    "    # TODO\n",
    "    # for each sentence in the document, split into words and add to list.\n",
    "    for i in corpus_raw:\n",
    "        words.extend(i.split())\n",
    "    # END TODO\n",
    "    return list(set(words))\n",
    "\n",
    "corpus_dict = build_dictionary(corpus_raw)\n",
    "print(len(corpus_dict))\n",
    "corpus = corpus_raw"
   ]
  },
  {
   "cell_type": "markdown",
   "id": "covered-resident",
   "metadata": {},
   "source": [
    "# TODO: one_hot_encoding (10 points)\n",
    "This function is used to create the one-hot vectors used as inputs for our network.\n",
    "1. Every word is represented as a PyTorch tensor containing 1 at its position in the vocabulary.\n",
    "2. The datatype of the tensor should be 'torch.float'."
   ]
  },
  {
   "cell_type": "code",
   "execution_count": 148,
   "id": "mathematical-honduras",
   "metadata": {},
   "outputs": [],
   "source": [
    "def one_hot_encoding(data_point_index, vocab_size):\n",
    "    # TO DO\n",
    "    # make temp all zeros of size vocab size, except at the data point index\n",
    "    temp = np.zeros(vocab_size)\n",
    "    temp[data_point_index] = 1\n",
    "    # END TO DO\n",
    "    return temp"
   ]
  },
  {
   "cell_type": "markdown",
   "id": "forty-status",
   "metadata": {},
   "source": [
    "## TODO: build_word_index_mapping (10 points)\n",
    "This function will return two (2) dictionaries. Respectively, the dictionaries will:\n",
    "1. Given a word, the function should return the index of this word in dictionary.\n",
    "2. Given an index, the function should retrieve the word."
   ]
  },
  {
   "cell_type": "code",
   "execution_count": 149,
   "id": "crazy-counter",
   "metadata": {},
   "outputs": [],
   "source": [
    "def build_word_index_mapping(corpus_dict):   \n",
    "    word_2_ind = dict()\n",
    "    ind_2_word = dict()\n",
    "    # TODO\n",
    "    # save the index or the word to the corresponding dictioneries\n",
    "    c = corpus_dict\n",
    "    for i in range(len(c)):\n",
    "        word_2_ind[c[i]] = i\n",
    "        ind_2_word[i] = c[i]\n",
    "    # END TODO\n",
    "    return word_2_ind, ind_2_word"
   ]
  },
  {
   "cell_type": "code",
   "execution_count": 150,
   "id": "saved-canada",
   "metadata": {},
   "outputs": [],
   "source": [
    "word_2_ind, ind_2_word = build_word_index_mapping(corpus_dict)"
   ]
  },
  {
   "cell_type": "markdown",
   "id": "driven-spirituality",
   "metadata": {},
   "source": [
    "## TODO: build_skip_pair (10 points)\n",
    "In this section you will define build_skip_pair. This function will create pairs of a word and its surrounding words. For Example:\n",
    "\n",
    "    Example Input: 'He is the king .'\n",
    "    Example Output: [['he', 'is'], ['he', 'the'], ['is', 'he'], ['is', 'the'], ['is', 'king'] ... ]\n",
    "\n",
    "In this assignment, we will use a window size of 2 (so you will have a pair for each word within 2 (inclusive) of the target word). "
   ]
  },
  {
   "cell_type": "code",
   "execution_count": 151,
   "id": "internal-lounge",
   "metadata": {},
   "outputs": [],
   "source": [
    "WINDOW_SIZE = 2\n",
    "\n",
    "def build_skip_pair(window_size, sentences):\n",
    "    data = []\n",
    "    # TO DO\n",
    "    # split sentence into words, loop through the list and add the pairs to list\n",
    "    for s in sentences:\n",
    "        temp = s.split()\n",
    "        for i in range(0,len(temp)):\n",
    "            for j in range(1,window_size+1):\n",
    "                # a word and all the words to the right side of it\n",
    "                if(i+j<len(temp)):\n",
    "                    t = [temp[i],temp[i+j]]\n",
    "                    data.append(t)\n",
    "                # a word and all the words to the left side of it\n",
    "                if(i-j>=0):\n",
    "                    t = [temp[i],temp[i-j]]\n",
    "                    data.append(t)\n",
    "\n",
    "    # END TO DO\n",
    "    return data"
   ]
  },
  {
   "cell_type": "code",
   "execution_count": 152,
   "id": "precious-database",
   "metadata": {},
   "outputs": [
    {
     "name": "stdout",
     "output_type": "stream",
     "text": [
      "68\n",
      "[['he', 'is'], ['he', 'the'], ['is', 'the'], ['is', 'he'], ['is', 'king']]\n"
     ]
    }
   ],
   "source": [
    "data = build_skip_pair(WINDOW_SIZE, corpus_raw)\n",
    "print (len(data))\n",
    "print (data[:5])"
   ]
  },
  {
   "cell_type": "markdown",
   "id": "atomic-writer",
   "metadata": {},
   "source": [
    "## build_train_data_label\n",
    "1. Iterate all the word pairs in data\n",
    "2. Construct the train and label data\n",
    "\n",
    "Preprocess the dataset with batch size given in the setup section."
   ]
  },
  {
   "cell_type": "code",
   "execution_count": 153,
   "id": "exempt-jackson",
   "metadata": {},
   "outputs": [],
   "source": [
    "def build_train_data_label(data, word_2_ind, vocab_size):\n",
    "    x_train = []\n",
    "    y_train = []\n",
    "    input_label_tensor_list = []\n",
    "    \n",
    "    for data_word in data:    \n",
    "        x = one_hot_encoding(word_2_ind[ data_word[0] ], vocab_size)\n",
    "        x_train.append(x)\n",
    "        y = one_hot_encoding(word_2_ind[ data_word[1] ], vocab_size)\n",
    "        y = word_2_ind[ data_word[1] ]\n",
    "        y_train.append(y)\n",
    "        y_torch = torch.as_tensor(word_2_ind[data_word[1]])\n",
    "        input_label_tensor_list.append([x, y])\n",
    "    return x_train, y_train, input_label_tensor_list\n",
    "\n",
    "x_train, y_train, input_label_tensor_list = build_train_data_label(data, word_2_ind, len(corpus_dict))\n",
    "\n",
    "class Custom_Dataset(torch.utils.data.dataset.Dataset):\n",
    "    def __init__(self, _dataset):\n",
    "        self.dataset = _dataset\n",
    "\n",
    "    def __getitem__(self, index):\n",
    "        example, target = self.dataset[index]\n",
    "        return np.array(example), target\n",
    "\n",
    "    def __len__(self):\n",
    "        return len(self.dataset)\n",
    "    \n",
    "train_loader = torch.utils.data.DataLoader(dataset=Custom_Dataset(input_label_tensor_list),\n",
    "                                           batch_size=batch_size,\n",
    "                                           shuffle=True)"
   ]
  },
  {
   "cell_type": "code",
   "execution_count": 154,
   "id": "municipal-investment",
   "metadata": {},
   "outputs": [],
   "source": [
    "vocab_size = len(corpus_dict)"
   ]
  },
  {
   "cell_type": "markdown",
   "id": "finite-falls",
   "metadata": {},
   "source": [
    "# Embedding Network"
   ]
  },
  {
   "cell_type": "markdown",
   "id": "dated-class",
   "metadata": {},
   "source": [
    "## TODO: Net (10 points)\n",
    "In this section you will define your network using two functions.\n",
    "1. init: Define all the layers you will use in the embedding network.\n",
    "    The network should have two layers, neither should have a bias.\n",
    "    - The first layer, called fc1, should have an input size equal to the vocabulary size and output size equal to the embedding size\n",
    "    - The second layer, called fc2, should have an input size equal to the embedding size and output size equal to the vocabulary size\n",
    "2. forward: Define the network layer connectivity.\n",
    "    - Connect the layers together as defined above, with a log_softmax after the second layer.\n",
    "\n",
    "Finally, you will select a suitable embedding size for your network. This is up to you, so try a few values to see what works."
   ]
  },
  {
   "cell_type": "code",
   "execution_count": 155,
   "id": "functioning-devon",
   "metadata": {},
   "outputs": [],
   "source": [
    "# Create our Network\n",
    "class Net(nn.Module):\n",
    "    # Define layers in the __init__ fuction\n",
    "    def __init__(self, embedding_size, vocab_size):\n",
    "        super(Net, self).__init__()\n",
    "        # TODO\n",
    "        # linear layers with no bias\n",
    "        self.fc1 = nn.Linear(vocab_size, embedding_size, bias = False)\n",
    "        self.fc2 = nn.Linear(embedding_size, vocab_size, bias = False)\n",
    "        # END TODO\n",
    "\n",
    "    # Define connectivity in the forward function\n",
    "    def forward(self, x):\n",
    "        # TODO\n",
    "        # connect the layers\n",
    "        x = F.relu(self.fc1(x))\n",
    "        x = self.fc2(x)\n",
    "        x = F.log_softmax(x)\n",
    "        # END TODO\n",
    "        return x\n",
    "    \n",
    "# TODO\n",
    "embedding_size = 5\n",
    "# END TODO\n",
    "    "
   ]
  },
  {
   "cell_type": "code",
   "execution_count": 156,
   "id": "outdoor-storage",
   "metadata": {},
   "outputs": [
    {
     "data": {
      "text/plain": [
       "Net(\n",
       "  (fc1): Linear(in_features=7, out_features=5, bias=False)\n",
       "  (fc2): Linear(in_features=5, out_features=7, bias=False)\n",
       ")"
      ]
     },
     "execution_count": 156,
     "metadata": {},
     "output_type": "execute_result"
    }
   ],
   "source": [
    "# This section initializes a copy of your network, then assigns it to the correct device\n",
    "net = Net(embedding_size, vocab_size)\n",
    "# Select device and output network structure\n",
    "device = torch.device(\"cuda:0\" if torch.cuda.is_available() else \"cpu\")\n",
    "net.to(device)"
   ]
  },
  {
   "cell_type": "markdown",
   "id": "worldwide-settlement",
   "metadata": {},
   "source": [
    "## TODO: Optimizer and Criterion (10 points)\n",
    "In this section you will define your loss function and how you will update your weights.\n",
    "1. For the criterion use either Cross Entropy Loss or negative log likelihood loss\n",
    "2. For the optimizer use stochastic gradient descent. Select a learning rate and momentum such that the loss of your model converges."
   ]
  },
  {
   "cell_type": "code",
   "execution_count": 157,
   "id": "available-broadway",
   "metadata": {},
   "outputs": [],
   "source": [
    "# TODO\n",
    "# setting up criterion and optimizer\n",
    "criterion = nn.CrossEntropyLoss()\n",
    "optimizer = optim.SGD(net.parameters(), lr=0.01, momentum=0.9)\n",
    "# END TODO"
   ]
  },
  {
   "cell_type": "code",
   "execution_count": 158,
   "id": "engaging-private",
   "metadata": {},
   "outputs": [],
   "source": [
    "FC1_List = []\n",
    "FC2_List = []"
   ]
  },
  {
   "cell_type": "markdown",
   "id": "colonial-cover",
   "metadata": {},
   "source": [
    "## TODO: Learning (10 points)\n",
    "In this section you will start learning your embedding. The steps to do so will be\n",
    "1. Zero the parameter gradients\n",
    "2. Do a forward pass to generate and output\n",
    "3. Calculate the loss based on that output\n",
    "4. Backpropagate the loss\n",
    "5. Update your weights."
   ]
  },
  {
   "cell_type": "code",
   "execution_count": 159,
   "id": "virgin-mitchell",
   "metadata": {},
   "outputs": [
    {
     "name": "stdout",
     "output_type": "stream",
     "text": [
      "Start Training\n",
      "Epoch 0/Time Slice 0: current loss = 1.9289016723632812\n",
      "Epoch 25/Time Slice 1: current loss = 1.9224739074707031\n",
      "Epoch 50/Time Slice 2: current loss = 1.912169337272644\n",
      "Epoch 75/Time Slice 3: current loss = 1.9000239372253418\n",
      "Epoch 100/Time Slice 4: current loss = 1.8858555555343628\n",
      "Epoch 125/Time Slice 5: current loss = 1.8695725202560425\n",
      "Epoch 150/Time Slice 6: current loss = 1.8513468503952026\n",
      "Epoch 175/Time Slice 7: current loss = 1.8312857151031494\n"
     ]
    },
    {
     "name": "stderr",
     "output_type": "stream",
     "text": [
      "/opt/conda/lib/python3.7/site-packages/ipykernel_launcher.py:18: UserWarning: Implicit dimension choice for log_softmax has been deprecated. Change the call to include dim=X as an argument.\n"
     ]
    },
    {
     "name": "stdout",
     "output_type": "stream",
     "text": [
      "Epoch 200/Time Slice 8: current loss = 1.8096364736557007\n",
      "Epoch 225/Time Slice 9: current loss = 1.7865207195281982\n",
      "End Training\n"
     ]
    }
   ],
   "source": [
    "print(\"Start Training\")\n",
    "current_time_slice = 0\n",
    "lowest_loss = math.inf\n",
    "lowest_loss_slice = -1\n",
    "for epoch in range(epochs):\n",
    "    for x,y in train_loader:\n",
    "        x.to(device)\n",
    "        y.to(device)\n",
    "        # TODO        \n",
    "        \n",
    "        # flatten the input\n",
    "        x = x.view(x.shape[0], -1)\n",
    "        \n",
    "        # zero the parameter gradients\n",
    "        optimizer.zero_grad()\n",
    "        \n",
    "        # Forward pass\n",
    "        outputs = net(x.float())\n",
    "        \n",
    "        # Calculate loss (name your variable 'loss')\n",
    "        loss = criterion(outputs, y)\n",
    "        \n",
    "        # Propagate loss\n",
    "        loss.backward()\n",
    "\n",
    "        # Update Weights\n",
    "        optimizer.step()\n",
    "\n",
    "        \n",
    "        # END TODO\n",
    "\n",
    "    if epoch % 25 == 0:\n",
    "        print('Epoch {epoch}/Time Slice {current_time_slice}: current loss = {loss}'.format(epoch=epoch, current_time_slice=current_time_slice, loss=loss))\n",
    "        FC1_List.append(net.fc1.weight.data.clone().detach().cpu().numpy().T)\n",
    "        FC2_List.append(net.fc2.weight.data.clone().detach().cpu().numpy())\n",
    "        if loss < lowest_loss:\n",
    "            lowest_loss = loss\n",
    "            lowest_loss_slice = current_time_slice\n",
    "        current_time_slice += 1\n",
    "    \n",
    "print('End Training')"
   ]
  },
  {
   "cell_type": "markdown",
   "id": "increased-tractor",
   "metadata": {},
   "source": [
    "# Analysis\n",
    "This section will provide some automatic analysis for the network you just made."
   ]
  },
  {
   "cell_type": "markdown",
   "id": "alternative-field",
   "metadata": {},
   "source": [
    "## TODO: nearest_indices (10 points)\n",
    "This function returns the indicies of the closest words. To do this the length has already been calculated. To finish the function \n",
    "1. Return the indicies of the closest <search_depth> words."
   ]
  },
  {
   "cell_type": "code",
   "execution_count": 160,
   "id": "original-behavior",
   "metadata": {},
   "outputs": [],
   "source": [
    "def nearest_indices(embedded_input, embedding_matrix, search_depth = 3):\n",
    "    # euclidean_distance is a list of the distances from the current index to all others (one will be zero)\n",
    "    euclidean_distance = np.linalg.norm(embedded_input - embedding_matrix, axis = 1)    \n",
    "    nearest_index_list = []\n",
    "    # TODO\n",
    "    # sort the euclidean distance and save the number of indexes up to the search depth in the list\n",
    "    nearest_index_list = euclidean_distance.argsort()[:6]\n",
    "    \n",
    "    # END TODO\n",
    "    \n",
    "    return nearest_index_list"
   ]
  },
  {
   "cell_type": "code",
   "execution_count": 161,
   "id": "geological-newman",
   "metadata": {},
   "outputs": [
    {
     "name": "stdout",
     "output_type": "stream",
     "text": [
      "First Layer Embeddings:\n",
      "Closest Words to Test Word (she): ['she', 'the', 'he', 'queen', 'king', 'is']\n",
      "Closest Words to Test Word (queen): ['queen', 'he', 'she', 'the', 'is', 'king']\n",
      "Second Layer Embeddings:\n",
      "Closest Words to Test Word (she): ['she', 'he', 'king', 'royal', 'queen', 'the']\n",
      "Closest Words to Test Word (queen): ['queen', 'king', 'he', 'she', 'the', 'royal']\n"
     ]
    }
   ],
   "source": [
    "def print_nearest_words(net, test_words, word_2_ind, ind_2_word, search_depth = 3):    \n",
    "    net.eval()\n",
    "    embedded_matrix = net.fc1.weight.data.detach().cpu().numpy().T    \n",
    "    nearest_words_dict_1 = {}\n",
    "    print('First Layer Embeddings:')\n",
    "    for word in test_words:        \n",
    "        embedded_input = embedded_matrix[word_2_ind[word], :]  \n",
    "        nearest_words_list = nearest_indices(embedded_input, embedded_matrix, search_depth = search_depth)\n",
    "        print(\"Closest Words to Test Word ({word}): {nearest_words_list}\".format(word=word, nearest_words_list=list(ind_2_word[i] for i in nearest_words_list)))     \n",
    "    embedded_matrix = net.fc2.weight.data.detach().cpu().numpy()    \n",
    "    nearest_words_dict_2 = {}\n",
    "    print('Second Layer Embeddings:')\n",
    "    for word in test_words:        \n",
    "        embedded_input = embedded_matrix[word_2_ind[word], :]  \n",
    "        nearest_words_list = nearest_indices(embedded_input, embedded_matrix, search_depth = search_depth)\n",
    "        print(\"Closest Words to Test Word ({word}): {nearest_words_list}\".format(word=word, nearest_words_list=list(ind_2_word[i] for i in nearest_words_list)))\n",
    "\n",
    "print_nearest_words(net, ['she', 'queen'], word_2_ind, ind_2_word, search_depth=3)"
   ]
  },
  {
   "cell_type": "markdown",
   "id": "labeled-fellow",
   "metadata": {},
   "source": [
    "## Plotting\n",
    "This section will plot the relationship between some of the embeddings. This visual representation may help understanding what the network is doing."
   ]
  },
  {
   "cell_type": "code",
   "execution_count": 162,
   "id": "latin-doctrine",
   "metadata": {},
   "outputs": [
    {
     "name": "stdout",
     "output_type": "stream",
     "text": [
      "The lowest loss (1.7865207195281982) occured at time slice 9\n"
     ]
    }
   ],
   "source": [
    "print(\"The lowest loss ({lowest_loss}) occured at time slice {lowest_loss_slice}\".format(lowest_loss=lowest_loss, lowest_loss_slice=lowest_loss_slice))"
   ]
  },
  {
   "cell_type": "markdown",
   "id": "statistical-amber",
   "metadata": {},
   "source": [
    "This code block extracts the weights of the fully connected layers."
   ]
  },
  {
   "cell_type": "code",
   "execution_count": 163,
   "id": "early-headquarters",
   "metadata": {},
   "outputs": [],
   "source": [
    "FC1_plot = net.fc1.weight.data.detach().cpu().numpy().T\n",
    "FC2_plot = net.fc2.weight.data.detach().cpu().numpy()"
   ]
  },
  {
   "cell_type": "markdown",
   "id": "future-imperial",
   "metadata": {},
   "source": [
    "The following section will plot the weights of the fully connected layers. In order to achieve this, the matrices representing the weights are factorized via singular value decomposition. More information can be found [here](https://en.wikipedia.org/wiki/Singular_value_decomposition).\n",
    "\n",
    "This section plots the weights of the first layer when the lowest loss is achieved."
   ]
  },
  {
   "cell_type": "code",
   "execution_count": 164,
   "id": "tribal-license",
   "metadata": {},
   "outputs": [
    {
     "name": "stderr",
     "output_type": "stream",
     "text": [
      "/opt/conda/lib/python3.7/site-packages/seaborn/_decorators.py:43: FutureWarning: Pass the following variables as keyword args: x, y. From version 0.12, the only valid positional argument will be `data`, and passing other arguments without an explicit keyword will result in an error or misinterpretation.\n",
      "  FutureWarning\n"
     ]
    },
    {
     "data": {
      "image/png": "[encoded data removed]",
      "text/plain": [
       "<Figure size 720x720 with 1 Axes>"
      ]
     },
     "metadata": {
      "needs_background": "light"
     },
     "output_type": "display_data"
    }
   ],
   "source": [
    "FC1_decompose = decomposition.TruncatedSVD(n_components=2).fit_transform(FC1_plot)\n",
    "x = FC1_decompose[:,0]\n",
    "y = FC1_decompose[:,1]\n",
    "plot = sns.scatterplot(x, y)\n",
    "\n",
    "for i in range(0, min(FC1_decompose.shape[0], 20)):\n",
    "     plot.text(x[i], y[i], list(corpus_dict)[i]);"
   ]
  },
  {
   "cell_type": "markdown",
   "id": "alpine-hanging",
   "metadata": {},
   "source": [
    "This section plots the weights of the second layer at the end of training."
   ]
  },
  {
   "cell_type": "code",
   "execution_count": 165,
   "id": "banned-malawi",
   "metadata": {},
   "outputs": [
    {
     "name": "stderr",
     "output_type": "stream",
     "text": [
      "/opt/conda/lib/python3.7/site-packages/seaborn/_decorators.py:43: FutureWarning: Pass the following variables as keyword args: x, y. From version 0.12, the only valid positional argument will be `data`, and passing other arguments without an explicit keyword will result in an error or misinterpretation.\n",
      "  FutureWarning\n"
     ]
    },
    {
     "data": {
      "image/png": "[encoded data removed]",
      "text/plain": [
       "<Figure size 720x720 with 1 Axes>"
      ]
     },
     "metadata": {
      "needs_background": "light"
     },
     "output_type": "display_data"
    }
   ],
   "source": [
    "FC2_decompose = decomposition.TruncatedSVD(n_components=2).fit_transform(FC2_plot)\n",
    "x = FC2_decompose[:,0]\n",
    "y = FC2_decompose[:,1]\n",
    "plot = sns.scatterplot(x, y)\n",
    "\n",
    "for i in range(0, min(FC2_decompose.shape[0], 20)):\n",
    "     plot.text(x[i], y[i], list(corpus_dict)[i]);"
   ]
  },
  {
   "cell_type": "markdown",
   "id": "together-humidity",
   "metadata": {},
   "source": [
    "This section plots the weights of the first layer when the lowest loss is achieved."
   ]
  },
  {
   "cell_type": "code",
   "execution_count": 166,
   "id": "extreme-publication",
   "metadata": {},
   "outputs": [
    {
     "name": "stderr",
     "output_type": "stream",
     "text": [
      "/opt/conda/lib/python3.7/site-packages/seaborn/_decorators.py:43: FutureWarning: Pass the following variables as keyword args: x, y. From version 0.12, the only valid positional argument will be `data`, and passing other arguments without an explicit keyword will result in an error or misinterpretation.\n",
      "  FutureWarning\n"
     ]
    },
    {
     "data": {
      "image/png": "[encoded data removed]",
      "text/plain": [
       "<Figure size 720x720 with 1 Axes>"
      ]
     },
     "metadata": {
      "needs_background": "light"
     },
     "output_type": "display_data"
    }
   ],
   "source": [
    "FC1_decompose = decomposition.TruncatedSVD(n_components=2).fit_transform(FC1_List[lowest_loss_slice])\n",
    "x = FC1_decompose[:,0]\n",
    "y = FC1_decompose[:,1]\n",
    "plot = sns.scatterplot(x, y)\n",
    "\n",
    "for i in range(0, min(FC1_decompose.shape[0], 50)): \n",
    "    plot.text(x[i], y[i], list(corpus_dict)[i]);"
   ]
  },
  {
   "cell_type": "markdown",
   "id": "supported-abuse",
   "metadata": {},
   "source": [
    "This section plots the weights of the second layer when the lowest loss is achieved."
   ]
  },
  {
   "cell_type": "code",
   "execution_count": 167,
   "id": "close-council",
   "metadata": {},
   "outputs": [
    {
     "name": "stderr",
     "output_type": "stream",
     "text": [
      "/opt/conda/lib/python3.7/site-packages/seaborn/_decorators.py:43: FutureWarning: Pass the following variables as keyword args: x, y. From version 0.12, the only valid positional argument will be `data`, and passing other arguments without an explicit keyword will result in an error or misinterpretation.\n",
      "  FutureWarning\n"
     ]
    },
    {
     "data": {
      "image/png": "[encoded data removed]",
      "text/plain": [
       "<Figure size 720x720 with 1 Axes>"
      ]
     },
     "metadata": {
      "needs_background": "light"
     },
     "output_type": "display_data"
    }
   ],
   "source": [
    "FC2_decompose = decomposition.TruncatedSVD(n_components=2).fit_transform(FC2_List[lowest_loss_slice])\n",
    "if FC2_decompose.shape[0] < 50:\n",
    "    x = FC2_decompose[:,0]\n",
    "    y = FC2_decompose[:,1]\n",
    "else:\n",
    "    x = FC2_decompose[:50,0]\n",
    "    y = FC2_decompose[:50,1]\n",
    "plot = sns.scatterplot(x, y)\n",
    "\n",
    "for i in range(0, min(FC2_decompose.shape[0], 50)):\n",
    "     plot.text(x[i], y[i], list(corpus_dict)[i]);"
   ]
  },
  {
   "cell_type": "code",
   "execution_count": null,
   "id": "stable-quest",
   "metadata": {},
   "outputs": [],
   "source": []
  },
  {
   "cell_type": "code",
   "execution_count": null,
   "id": "processed-waters",
   "metadata": {},
   "outputs": [],
   "source": []
  }
 ],
 "metadata": {
  "environment": {
   "name": "pytorch-gpu.1-8.m65",
   "type": "gcloud",
   "uri": "gcr.io/deeplearning-platform-release/pytorch-gpu.1-8:m65"
  },
  "kernelspec": {
   "display_name": "Python 3",
   "language": "python",
   "name": "python3"
  },
  "language_info": {
   "codemirror_mode": {
    "name": "ipython",
    "version": 3
   },
   "file_extension": ".py",
   "mimetype": "text/x-python",
   "name": "python",
   "nbconvert_exporter": "python",
   "pygments_lexer": "ipython3",
   "version": "3.7.10"
  }
 },
 "nbformat": 4,
 "nbformat_minor": 5
}
